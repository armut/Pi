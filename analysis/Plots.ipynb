{
 "cells": [
  {
   "cell_type": "code",
   "execution_count": 28,
   "metadata": {
    "collapsed": true
   },
   "outputs": [],
   "source": [
    "import pandas as pd\n",
    "import numpy as np\n",
    "import matplotlib.pyplot as plt"
   ]
  },
  {
   "cell_type": "code",
   "execution_count": 2,
   "metadata": {
    "collapsed": true
   },
   "outputs": [],
   "source": [
    "point = pd.read_csv(\"point_data.csv\")\n",
    "proc = pd.read_csv(\"processor_data.csv\")"
   ]
  },
  {
   "cell_type": "code",
   "execution_count": 6,
   "metadata": {},
   "outputs": [
    {
     "data": {
      "text/html": [
       "<div>\n",
       "<style>\n",
       "    .dataframe thead tr:only-child th {\n",
       "        text-align: right;\n",
       "    }\n",
       "\n",
       "    .dataframe thead th {\n",
       "        text-align: left;\n",
       "    }\n",
       "\n",
       "    .dataframe tbody tr th {\n",
       "        vertical-align: top;\n",
       "    }\n",
       "</style>\n",
       "<table border=\"1\" class=\"dataframe\">\n",
       "  <thead>\n",
       "    <tr style=\"text-align: right;\">\n",
       "      <th></th>\n",
       "      <th>ProcessorCount</th>\n",
       "      <th>PointCount</th>\n",
       "      <th>ElapsedTime</th>\n",
       "      <th>Pi</th>\n",
       "    </tr>\n",
       "  </thead>\n",
       "  <tbody>\n",
       "    <tr>\n",
       "      <th>0</th>\n",
       "      <td>1</td>\n",
       "      <td>1000000000</td>\n",
       "      <td>24.716689</td>\n",
       "      <td>3.141604</td>\n",
       "    </tr>\n",
       "    <tr>\n",
       "      <th>1</th>\n",
       "      <td>2</td>\n",
       "      <td>1000000000</td>\n",
       "      <td>13.166669</td>\n",
       "      <td>3.141539</td>\n",
       "    </tr>\n",
       "    <tr>\n",
       "      <th>2</th>\n",
       "      <td>3</td>\n",
       "      <td>1000000000</td>\n",
       "      <td>12.276997</td>\n",
       "      <td>3.141592</td>\n",
       "    </tr>\n",
       "    <tr>\n",
       "      <th>3</th>\n",
       "      <td>4</td>\n",
       "      <td>1000000000</td>\n",
       "      <td>9.795310</td>\n",
       "      <td>3.141574</td>\n",
       "    </tr>\n",
       "    <tr>\n",
       "      <th>4</th>\n",
       "      <td>5</td>\n",
       "      <td>1000000000</td>\n",
       "      <td>10.004150</td>\n",
       "      <td>3.141580</td>\n",
       "    </tr>\n",
       "    <tr>\n",
       "      <th>5</th>\n",
       "      <td>6</td>\n",
       "      <td>1000000000</td>\n",
       "      <td>10.155986</td>\n",
       "      <td>3.141686</td>\n",
       "    </tr>\n",
       "    <tr>\n",
       "      <th>6</th>\n",
       "      <td>7</td>\n",
       "      <td>1000000000</td>\n",
       "      <td>9.829380</td>\n",
       "      <td>3.141711</td>\n",
       "    </tr>\n",
       "    <tr>\n",
       "      <th>7</th>\n",
       "      <td>8</td>\n",
       "      <td>1000000000</td>\n",
       "      <td>10.254730</td>\n",
       "      <td>3.141695</td>\n",
       "    </tr>\n",
       "  </tbody>\n",
       "</table>\n",
       "</div>"
      ],
      "text/plain": [
       "   ProcessorCount   PointCount   ElapsedTime        Pi\n",
       "0               1   1000000000     24.716689  3.141604\n",
       "1               2   1000000000     13.166669  3.141539\n",
       "2               3   1000000000     12.276997  3.141592\n",
       "3               4   1000000000      9.795310  3.141574\n",
       "4               5   1000000000     10.004150  3.141580\n",
       "5               6   1000000000     10.155986  3.141686\n",
       "6               7   1000000000      9.829380  3.141711\n",
       "7               8   1000000000     10.254730  3.141695"
      ]
     },
     "execution_count": 6,
     "metadata": {},
     "output_type": "execute_result"
    }
   ],
   "source": [
    "proc"
   ]
  },
  {
   "cell_type": "code",
   "execution_count": 18,
   "metadata": {},
   "outputs": [
    {
     "data": {
      "text/html": [
       "<div>\n",
       "<style>\n",
       "    .dataframe thead tr:only-child th {\n",
       "        text-align: right;\n",
       "    }\n",
       "\n",
       "    .dataframe thead th {\n",
       "        text-align: left;\n",
       "    }\n",
       "\n",
       "    .dataframe tbody tr th {\n",
       "        vertical-align: top;\n",
       "    }\n",
       "</style>\n",
       "<table border=\"1\" class=\"dataframe\">\n",
       "  <thead>\n",
       "    <tr style=\"text-align: right;\">\n",
       "      <th></th>\n",
       "      <th>ProcessorCount</th>\n",
       "      <th>PointCount</th>\n",
       "      <th>ElapsedTime</th>\n",
       "      <th>Pi</th>\n",
       "    </tr>\n",
       "  </thead>\n",
       "  <tbody>\n",
       "    <tr>\n",
       "      <th>0</th>\n",
       "      <td>4</td>\n",
       "      <td>1</td>\n",
       "      <td>0.000092</td>\n",
       "      <td>4.000000</td>\n",
       "    </tr>\n",
       "    <tr>\n",
       "      <th>1</th>\n",
       "      <td>4</td>\n",
       "      <td>10</td>\n",
       "      <td>0.000054</td>\n",
       "      <td>2.800000</td>\n",
       "    </tr>\n",
       "    <tr>\n",
       "      <th>2</th>\n",
       "      <td>4</td>\n",
       "      <td>100</td>\n",
       "      <td>0.000057</td>\n",
       "      <td>3.080000</td>\n",
       "    </tr>\n",
       "    <tr>\n",
       "      <th>3</th>\n",
       "      <td>4</td>\n",
       "      <td>1000</td>\n",
       "      <td>0.000064</td>\n",
       "      <td>3.144000</td>\n",
       "    </tr>\n",
       "    <tr>\n",
       "      <th>4</th>\n",
       "      <td>4</td>\n",
       "      <td>10000</td>\n",
       "      <td>0.000221</td>\n",
       "      <td>3.148000</td>\n",
       "    </tr>\n",
       "    <tr>\n",
       "      <th>5</th>\n",
       "      <td>4</td>\n",
       "      <td>100000</td>\n",
       "      <td>0.000984</td>\n",
       "      <td>3.147600</td>\n",
       "    </tr>\n",
       "    <tr>\n",
       "      <th>6</th>\n",
       "      <td>4</td>\n",
       "      <td>1000000</td>\n",
       "      <td>0.010109</td>\n",
       "      <td>3.141164</td>\n",
       "    </tr>\n",
       "    <tr>\n",
       "      <th>7</th>\n",
       "      <td>4</td>\n",
       "      <td>10000000</td>\n",
       "      <td>0.093073</td>\n",
       "      <td>3.141704</td>\n",
       "    </tr>\n",
       "    <tr>\n",
       "      <th>8</th>\n",
       "      <td>4</td>\n",
       "      <td>100000000</td>\n",
       "      <td>0.953610</td>\n",
       "      <td>3.141455</td>\n",
       "    </tr>\n",
       "    <tr>\n",
       "      <th>9</th>\n",
       "      <td>4</td>\n",
       "      <td>1000000000</td>\n",
       "      <td>9.553220</td>\n",
       "      <td>3.141574</td>\n",
       "    </tr>\n",
       "  </tbody>\n",
       "</table>\n",
       "</div>"
      ],
      "text/plain": [
       "   ProcessorCount   PointCount   ElapsedTime        Pi\n",
       "0               4            1      0.000092  4.000000\n",
       "1               4           10      0.000054  2.800000\n",
       "2               4          100      0.000057  3.080000\n",
       "3               4         1000      0.000064  3.144000\n",
       "4               4        10000      0.000221  3.148000\n",
       "5               4       100000      0.000984  3.147600\n",
       "6               4      1000000      0.010109  3.141164\n",
       "7               4     10000000      0.093073  3.141704\n",
       "8               4    100000000      0.953610  3.141455\n",
       "9               4   1000000000      9.553220  3.141574"
      ]
     },
     "execution_count": 18,
     "metadata": {},
     "output_type": "execute_result"
    }
   ],
   "source": [
    "point"
   ]
  },
  {
   "cell_type": "code",
   "execution_count": 45,
   "metadata": {},
   "outputs": [
    {
     "data": {
      "image/png": "[encoded data removed]",
      "text/plain": [
       "<matplotlib.figure.Figure at 0x7fdbb6404908>"
      ]
     },
     "metadata": {},
     "output_type": "display_data"
    }
   ],
   "source": [
    "plt.plot(proc['ProcessorCount'].values.tolist(), proc[' ElapsedTime'].values.tolist())\n",
    "plt.grid(True)\n",
    "plt.xlabel(\"Number of processors\")\n",
    "plt.ylabel(\"Elapsed seconds\")\n",
    "plt.show()\n",
    "plt.savefig(\"proc.png\")"
   ]
  },
  {
   "cell_type": "code",
   "execution_count": 46,
   "metadata": {},
   "outputs": [
    {
     "data": {
      "image/png": "[encoded data removed]",
      "text/plain": [
       "<matplotlib.figure.Figure at 0x7fdbb638b470>"
      ]
     },
     "metadata": {},
     "output_type": "display_data"
    }
   ],
   "source": [
    "plt.plot(point[' PointCount'].values.tolist(), point[' Pi'].values.tolist())\n",
    "plt.grid(True)\n",
    "plt.xscale('log')\n",
    "plt.yticks(np.arange(min(point[' Pi'].values.tolist()), max(point[' Pi'].values.tolist()), 0.1))\n",
    "plt.xlabel(\"Number of points\")\n",
    "plt.ylabel(\"Pi\")\n",
    "plt.show()\n",
    "plt.savefig(\"point.png\")"
   ]
  }
 ],
 "metadata": {
  "kernelspec": {
   "display_name": "Python 3",
   "language": "python",
   "name": "python3"
  },
  "language_info": {
   "codemirror_mode": {
    "name": "ipython",
    "version": 3
   },
   "file_extension": ".py",
   "mimetype": "text/x-python",
   "name": "python",
   "nbconvert_exporter": "python",
   "pygments_lexer": "ipython3",
   "version": "3.6.1"
  }
 },
 "nbformat": 4,
 "nbformat_minor": 2
}
